{
 "cells": [
  {
   "cell_type": "code",
   "execution_count": 1,
   "id": "9e603ea2",
   "metadata": {},
   "outputs": [
    {
     "name": "stdout",
     "output_type": "stream",
     "text": [
      "Hello World!\n"
     ]
    }
   ],
   "source": [
    "print(\"Hello World!\")"
   ]
  },
  {
   "cell_type": "code",
   "execution_count": 1,
   "id": "ae8db4ab",
   "metadata": {},
   "outputs": [
    {
     "name": "stdout",
     "output_type": "stream",
     "text": [
      "No, die\n"
     ]
    }
   ],
   "source": [
    "print(\"No, die\")"
   ]
  },
  {
   "cell_type": "code",
   "execution_count": 2,
   "id": "3b4b8cbd",
   "metadata": {},
   "outputs": [
    {
     "name": "stdout",
     "output_type": "stream",
     "text": [
      "2401\n"
     ]
    }
   ],
   "source": [
    "print(7**4)"
   ]
  },
  {
   "cell_type": "code",
   "execution_count": 3,
   "id": "1d3909b8",
   "metadata": {},
   "outputs": [],
   "source": [
    "s = \"Hey there pal.\""
   ]
  },
  {
   "cell_type": "code",
   "execution_count": 6,
   "id": "89f42406",
   "metadata": {},
   "outputs": [
    {
     "name": "stdout",
     "output_type": "stream",
     "text": [
      "['Hey', 'there', 'pal.']\n"
     ]
    }
   ],
   "source": [
    "print(s.split())"
   ]
  },
  {
   "cell_type": "code",
   "execution_count": 13,
   "id": "765377c2",
   "metadata": {},
   "outputs": [
    {
     "name": "stdout",
     "output_type": "stream",
     "text": [
      "The diameter of Earth is 12742 kms.\n"
     ]
    }
   ],
   "source": [
    "text = \"The diameter of {} is {} kms.\"\n",
    "print(text.format(planet, diameter))"
   ]
  },
  {
   "cell_type": "code",
   "execution_count": 14,
   "id": "599bd52c",
   "metadata": {},
   "outputs": [],
   "source": [
    "lst = [1,2,[3,4],[5,[100,200,['hello']],23,11],1,7]"
   ]
  },
  {
   "cell_type": "code",
   "execution_count": 27,
   "id": "cc404366",
   "metadata": {},
   "outputs": [
    {
     "data": {
      "text/plain": [
       "'hello'"
      ]
     },
     "execution_count": 27,
     "metadata": {},
     "output_type": "execute_result"
    }
   ],
   "source": [
    "lst[3][1][2][0]"
   ]
  },
  {
   "cell_type": "code",
   "execution_count": 28,
   "id": "a460b169",
   "metadata": {},
   "outputs": [],
   "source": [
    "d = {'k1':[1,2,3,{'tricky':['oh','man','inception',{'target':[1,2,3,'hello']}]}]}"
   ]
  },
  {
   "cell_type": "code",
   "execution_count": 35,
   "id": "c4b1f174",
   "metadata": {},
   "outputs": [
    {
     "data": {
      "text/plain": [
       "'hello'"
      ]
     },
     "execution_count": 35,
     "metadata": {},
     "output_type": "execute_result"
    }
   ],
   "source": [
    "d['k1'][3]['tricky'][3]['target'][3]"
   ]
  },
  {
   "cell_type": "code",
   "execution_count": 45,
   "id": "ef2d3f30",
   "metadata": {},
   "outputs": [],
   "source": [
    "str1 = \"user@domdasain.com\""
   ]
  },
  {
   "cell_type": "code",
   "execution_count": 46,
   "id": "0b3d820e",
   "metadata": {},
   "outputs": [],
   "source": [
    "def getDomain(str):\n",
    "    print(str1.split('@')[1])\n",
    "    "
   ]
  },
  {
   "cell_type": "code",
   "execution_count": 47,
   "id": "fe07a6b0",
   "metadata": {},
   "outputs": [
    {
     "name": "stdout",
     "output_type": "stream",
     "text": [
      "domdasain.com\n"
     ]
    }
   ],
   "source": [
    "getDomain(str1)"
   ]
  },
  {
   "cell_type": "code",
   "execution_count": null,
   "id": "33fcb2cf",
   "metadata": {},
   "outputs": [],
   "source": []
  },
  {
   "cell_type": "code",
   "execution_count": 65,
   "id": "4503c2bb",
   "metadata": {},
   "outputs": [],
   "source": [
    "def findDog(str):\n",
    "    print(str.count('dog'))\n",
    "    "
   ]
  },
  {
   "cell_type": "code",
   "execution_count": 66,
   "id": "7dec4490",
   "metadata": {},
   "outputs": [
    {
     "name": "stdout",
     "output_type": "stream",
     "text": [
      "0\n"
     ]
    }
   ],
   "source": [
    "findDog(\"Hey man\")"
   ]
  },
  {
   "cell_type": "code",
   "execution_count": 67,
   "id": "b1111020",
   "metadata": {},
   "outputs": [
    {
     "name": "stdout",
     "output_type": "stream",
     "text": [
      "2\n"
     ]
    }
   ],
   "source": [
    "findDog(\"hey dogfmandog\")"
   ]
  },
  {
   "cell_type": "code",
   "execution_count": 68,
   "id": "f6568ac5",
   "metadata": {},
   "outputs": [],
   "source": [
    "seq = ['soup', 'dog', 'salad', 'cat', 'great']"
   ]
  },
  {
   "cell_type": "code",
   "execution_count": 78,
   "id": "0ceef7da",
   "metadata": {},
   "outputs": [
    {
     "name": "stdout",
     "output_type": "stream",
     "text": [
      "['soup', 'salad']\n"
     ]
    }
   ],
   "source": [
    "print(list(filter(lambda x: (x[0]=='s'),seq)))"
   ]
  },
  {
   "cell_type": "code",
   "execution_count": 92,
   "id": "f1bd6a8c",
   "metadata": {},
   "outputs": [],
   "source": [
    "def caught_speeding(speed,is_birthday):\n",
    "    if is_birthday == 1:\n",
    "        speed -=5\n",
    "    print(speed)\n",
    "    if speed <=60:\n",
    "        print(\"No Ticket\")\n",
    "    if speed >60:\n",
    "        print(\"Small Ticket\")\n",
    "    if speed >80:\n",
    "        print(\"Big Ticket\")\n",
    "        "
   ]
  },
  {
   "cell_type": "code",
   "execution_count": 95,
   "id": "984b97f7",
   "metadata": {},
   "outputs": [
    {
     "name": "stdout",
     "output_type": "stream",
     "text": [
      "60\n",
      "No Ticket\n",
      "Small Ticket\n"
     ]
    }
   ],
   "source": [
    "caught_speeding(65,True)"
   ]
  },
  {
   "cell_type": "code",
   "execution_count": null,
   "id": "34f353ac",
   "metadata": {},
   "outputs": [],
   "source": []
  }
 ],
 "metadata": {
  "kernelspec": {
   "display_name": "Python 3 (ipykernel)",
   "language": "python",
   "name": "python3"
  },
  "language_info": {
   "codemirror_mode": {
    "name": "ipython",
    "version": 3
   },
   "file_extension": ".py",
   "mimetype": "text/x-python",
   "name": "python",
   "nbconvert_exporter": "python",
   "pygments_lexer": "ipython3",
   "version": "3.9.7"
  }
 },
 "nbformat": 4,
 "nbformat_minor": 5
}
