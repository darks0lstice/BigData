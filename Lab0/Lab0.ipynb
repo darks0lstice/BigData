{
 "cells": [
  {
   "cell_type": "code",
   "execution_count": 1,
   "id": "9e603ea2",
   "metadata": {},
   "outputs": [
    {
     "name": "stdout",
     "output_type": "stream",
     "text": [
      "Hello World!\n"
     ]
    }
   ],
   "source": [
    "print(\"Hello World!\")"
   ]
  },
  {
   "cell_type": "code",
   "execution_count": 2,
   "id": "2a7c1e56",
   "metadata": {},
   "outputs": [
    {
     "name": "stdout",
     "output_type": "stream",
     "text": [
      "2401\n"
     ]
    }
   ],
   "source": [
    "print(7**4)"
   ]
  },
  {
   "cell_type": "code",
   "execution_count": 3,
   "id": "8c4218e2",
   "metadata": {},
   "outputs": [],
   "source": [
    "s = \"Hey there pal.\""
   ]
  },
  {
   "cell_type": "code",
   "execution_count": 6,
   "id": "e6a5b1bc",
   "metadata": {},
   "outputs": [
    {
     "name": "stdout",
     "output_type": "stream",
     "text": [
      "['Hey', 'there', 'pal.']\n"
     ]
    }
   ],
   "source": [
    "print(s.split())"
   ]
  },
  {
   "cell_type": "code",
   "execution_count": 13,
   "id": "c7c77420",
   "metadata": {},
   "outputs": [
    {
     "name": "stdout",
     "output_type": "stream",
     "text": [
      "The diameter of Earth is 12742 kms.\n"
     ]
    }
   ],
   "source": [
    "text = \"The diameter of {} is {} kms.\"\n",
    "print(text.format(planet, diameter))"
   ]
  },
  {
   "cell_type": "code",
   "execution_count": 14,
   "id": "13608986",
   "metadata": {},
   "outputs": [],
   "source": [
    "lst = [1,2,[3,4],[5,[100,200,['hello']],23,11],1,7]"
   ]
  },
  {
   "cell_type": "code",
   "execution_count": 27,
   "id": "b009ef1c",
   "metadata": {},
   "outputs": [
    {
     "data": {
      "text/plain": [
       "'hello'"
      ]
     },
     "execution_count": 27,
     "metadata": {},
     "output_type": "execute_result"
    }
   ],
   "source": [
    "lst[3][1][2][0]"
   ]
  },
  {
   "cell_type": "code",
   "execution_count": 28,
   "id": "fd40ef63",
   "metadata": {},
   "outputs": [],
   "source": [
    "d = {'k1':[1,2,3,{'tricky':['oh','man','inception',{'target':[1,2,3,'hello']}]}]}"
   ]
  },
  {
   "cell_type": "code",
   "execution_count": 35,
   "id": "0e28fd38",
   "metadata": {},
   "outputs": [
    {
     "data": {
      "text/plain": [
       "'hello'"
      ]
     },
     "execution_count": 35,
     "metadata": {},
     "output_type": "execute_result"
    }
   ],
   "source": [
    "d['k1'][3]['tricky'][3]['target'][3]"
   ]
  },
  {
   "cell_type": "code",
   "execution_count": 45,
   "id": "d99d7646",
   "metadata": {},
   "outputs": [],
   "source": [
    "str1 = \"user@domdasain.com\""
   ]
  },
  {
   "cell_type": "code",
   "execution_count": 46,
   "id": "f7339064",
   "metadata": {},
   "outputs": [],
   "source": [
    "def getDomain(str):\n",
    "    print(str1.split('@')[1])\n",
    "    "
   ]
  },
  {
   "cell_type": "code",
   "execution_count": 47,
   "id": "1d3b920d",
   "metadata": {},
   "outputs": [
    {
     "name": "stdout",
     "output_type": "stream",
     "text": [
      "domdasain.com\n"
     ]
    }
   ],
   "source": [
    "getDomain(str1)"
   ]
  },
  {
   "cell_type": "code",
   "execution_count": 65,
   "id": "5e04355a",
   "metadata": {},
   "outputs": [],
   "source": [
    "def findDog(str):\n",
    "    print(str.count('dog'))\n",
    "    "
   ]
  },
  {
   "cell_type": "code",
   "execution_count": 66,
   "id": "5ab84c04",
   "metadata": {},
   "outputs": [
    {
     "name": "stdout",
     "output_type": "stream",
     "text": [
      "0\n"
     ]
    }
   ],
   "source": [
    "findDog(\"Hey man\")"
   ]
  },
  {
   "cell_type": "code",
   "execution_count": 67,
   "id": "2819f855",
   "metadata": {},
   "outputs": [
    {
     "name": "stdout",
     "output_type": "stream",
     "text": [
      "2\n"
     ]
    }
   ],
   "source": [
    "findDog(\"hey dogfmandog\")"
   ]
  },
  {
   "cell_type": "code",
   "execution_count": 68,
   "id": "874861d8",
   "metadata": {},
   "outputs": [],
   "source": [
    "seq = ['soup', 'dog', 'salad', 'cat', 'great']"
   ]
  },
  {
   "cell_type": "code",
   "execution_count": 78,
   "id": "332ded56",
   "metadata": {},
   "outputs": [
    {
     "name": "stdout",
     "output_type": "stream",
     "text": [
      "['soup', 'salad']\n"
     ]
    }
   ],
   "source": [
    "print(list(filter(lambda x: (x[0]=='s'),seq)))"
   ]
  },
  {
   "cell_type": "code",
   "execution_count": 12,
   "id": "53cf8135",
   "metadata": {},
   "outputs": [],
   "source": [
    "def caught_speeding(speed,is_birthday):\n",
    "    if is_birthday == 1:\n",
    "        speed -=5\n",
    "    if speed <=60:\n",
    "        print(\"No Ticket\")\n",
    "    if (speed > 60) and (speed <=80):\n",
    "        print(\"Small Ticket\")\n",
    "    if speed >80:\n",
    "        print(\"Big Ticket\")\n",
    "        "
   ]
  },
  {
   "cell_type": "code",
   "execution_count": 13,
   "id": "9cc94f38",
   "metadata": {},
   "outputs": [
    {
     "name": "stdout",
     "output_type": "stream",
     "text": [
      "Small Ticket\n"
     ]
    }
   ],
   "source": [
    "caught_speeding(85,True)"
   ]
  }
 ],
 "metadata": {
  "kernelspec": {
   "display_name": "Python 3 (ipykernel)",
   "language": "python",
   "name": "python3"
  },
  "language_info": {
   "codemirror_mode": {
    "name": "ipython",
    "version": 3
   },
   "file_extension": ".py",
   "mimetype": "text/x-python",
   "name": "python",
   "nbconvert_exporter": "python",
   "pygments_lexer": "ipython3",
   "version": "3.9.7"
  }
 },
 "nbformat": 4,
 "nbformat_minor": 5
}
