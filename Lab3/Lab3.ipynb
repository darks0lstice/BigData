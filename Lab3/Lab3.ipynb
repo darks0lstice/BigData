{
 "cells": [
  {
   "cell_type": "code",
   "execution_count": 82,
   "id": "87f3c393",
   "metadata": {},
   "outputs": [],
   "source": [
    "from sklearn import datasets\n",
    "from sklearn.model_selection import train_test_split\n",
    "from sklearn.neighbors import KNeighborsClassifier\n",
    "from sklearn.metrics import accuracy_score\n",
    "from sklearn.svm import SVC\n",
    "from sklearn.metrics import classification_report\n",
    "\n",
    "import numpy as np\n",
    "import matplotlib.pyplot as plt\n",
    "import pandas as pd\n",
    "\n",
    "digits = datasets.load_digits()\n",
    "\n",
    "X = digits.data\n",
    "y  = digits.target\n",
    "X_train, X_test, y_train, y_test = train_test_split(X,y,test_size=0.2)\n"
   ]
  },
  {
   "cell_type": "code",
   "execution_count": null,
   "id": "63092d1d",
   "metadata": {},
   "outputs": [],
   "source": []
  },
  {
   "cell_type": "code",
   "execution_count": 89,
   "id": "36a81ea3",
   "metadata": {},
   "outputs": [
    {
     "name": "stdout",
     "output_type": "stream",
     "text": [
      "[0.9861111111111112, 0.9861111111111112, 0.9833333333333333, 0.9805555555555555, 0.9833333333333333, 0.9805555555555555, 0.9805555555555555, 0.975]\n"
     ]
    }
   ],
   "source": [
    "dataOut = []\n",
    "against=[]\n",
    "for i in range(1,9):\n",
    "    op = KNeighborsClassifier(n_neighbors = i)\n",
    "    op.fit(X_train, y_train)\n",
    "    against.append(i)\n",
    "    dataOut.append(accuracy_score(y_test, op.predict(X_test)))\n",
    "print(dataOut)\n"
   ]
  },
  {
   "cell_type": "code",
   "execution_count": 90,
   "id": "4636c395",
   "metadata": {},
   "outputs": [
    {
     "data": {
      "text/plain": [
       "[<matplotlib.lines.Line2D at 0x1ed985c7220>]"
      ]
     },
     "execution_count": 90,
     "metadata": {},
     "output_type": "execute_result"
    },
    {
     "data": {
      "image/png": "[encoded data removed]",
      "text/plain": [
       "<Figure size 432x288 with 1 Axes>"
      ]
     },
     "metadata": {
      "needs_background": "light"
     },
     "output_type": "display_data"
    }
   ],
   "source": [
    "plt.title(\"k-NN: Varying Number of Neighbours\")\n",
    "plt.xlabel(\"Neighbour number\")\n",
    "plt.ylabel(\"Accuracy (%)\")\n",
    "plt.ylim(0.97,0.99)\n",
    "plt.plot(against,dataOut)\n"
   ]
  },
  {
   "cell_type": "code",
   "execution_count": 103,
   "id": "58288765",
   "metadata": {},
   "outputs": [],
   "source": [
    "svmc = SVC(kernel='linear')\n",
    "svmc.fit(X_train,y_train)\n",
    "y_pred = svmc.predict(X_test)"
   ]
  },
  {
   "cell_type": "code",
   "execution_count": 104,
   "id": "f56db20b",
   "metadata": {},
   "outputs": [
    {
     "name": "stdout",
     "output_type": "stream",
     "text": [
      "              precision    recall  f1-score   support\n",
      "\n",
      "           0       1.00      1.00      1.00        20\n",
      "           1       0.92      1.00      0.96        36\n",
      "           2       1.00      1.00      1.00        23\n",
      "           3       1.00      1.00      1.00        35\n",
      "           4       1.00      1.00      1.00        38\n",
      "           5       0.97      0.97      0.97        40\n",
      "           6       1.00      0.97      0.99        36\n",
      "           7       1.00      0.97      0.99        37\n",
      "           8       0.98      0.96      0.97        52\n",
      "           9       0.95      0.95      0.95        43\n",
      "\n",
      "    accuracy                           0.98       360\n",
      "   macro avg       0.98      0.98      0.98       360\n",
      "weighted avg       0.98      0.98      0.98       360\n",
      "\n"
     ]
    }
   ],
   "source": [
    "print(classification_report(y_test,y_pred))"
   ]
  },
  {
   "cell_type": "code",
   "execution_count": null,
   "id": "9a9e33dd",
   "metadata": {},
   "outputs": [],
   "source": []
  }
 ],
 "metadata": {
  "kernelspec": {
   "display_name": "Python 3 (ipykernel)",
   "language": "python",
   "name": "python3"
  },
  "language_info": {
   "codemirror_mode": {
    "name": "ipython",
    "version": 3
   },
   "file_extension": ".py",
   "mimetype": "text/x-python",
   "name": "python",
   "nbconvert_exporter": "python",
   "pygments_lexer": "ipython3",
   "version": "3.9.7"
  }
 },
 "nbformat": 4,
 "nbformat_minor": 5
}
