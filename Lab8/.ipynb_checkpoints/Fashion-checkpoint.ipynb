{
 "cells": [
  {
   "cell_type": "markdown",
   "metadata": {},
   "source": [
    "# Image Classification by MLP - Fashion MNIST"
   ]
  },
  {
   "cell_type": "markdown",
   "metadata": {},
   "source": [
    "In this exercise, we will try to use a neural network on a simple classification task: classifying images of clothes into 10 classes."
   ]
  },
  {
   "cell_type": "markdown",
   "metadata": {},
   "source": [
    "We will first download the data:"
   ]
  },
  {
   "cell_type": "code",
   "execution_count": 2,
   "metadata": {
    "scrolled": true
   },
   "outputs": [
    {
     "data": {
      "text/plain": [
       "(60000, 28, 28)"
      ]
     },
     "execution_count": 2,
     "metadata": {},
     "output_type": "execute_result"
    }
   ],
   "source": [
    "from tensorflow.keras.datasets import fashion_mnist\n",
    "\n",
    "#TODO: load dataset\n",
    "(X_train, y_train), (X_test, y_test) = fashion_mnist.load_data()\n",
    "\n",
    "#TODO: Resample the dataset if needed\n",
    "# X_train = ...\n",
    "# y_train = ...\n",
    "# X_test = ...\n",
    "# y_test = ...\n",
    "\n",
    "X_train.shape"
   ]
  },
  {
   "cell_type": "markdown",
   "metadata": {},
   "source": [
    "This dataset contains 10 classes:\n",
    "* 0:\tT-shirt/top\n",
    "* 1:\tTrouser\n",
    "* 2:\tPullover\n",
    "* 3:\tDress\n",
    "* 4:\tCoat\n",
    "* 5:\tSandal\n",
    "* 6:\tShirt\n",
    "* 7:\tSneaker\n",
    "* 8:\tBag\n",
    "* 9:\tAnkle boot"
   ]
  },
  {
   "cell_type": "markdown",
   "metadata": {},
   "source": [
    "Now begin by exploring the data. Try to display some images with the associated label."
   ]
  },
  {
   "cell_type": "code",
   "execution_count": 5,
   "metadata": {
    "scrolled": true
   },
   "outputs": [
    {
     "data": {
      "image/png": "[encoded data removed]",
      "text/plain": [
       "<Figure size 432x288 with 1 Axes>"
      ]
     },
     "metadata": {
      "needs_background": "light"
     },
     "output_type": "display_data"
    }
   ],
   "source": [
    "# TODO: Explore the data, display some input images\n",
    "%matplotlib inline\n",
    "import matplotlib.pyplot as plt\n",
    "import numpy as np\n",
    "\n",
    "label_class = ['top', 'trouser', 'pullover', 'dress', 'coat', 'sandal', 'shirt', 'sneaker', 'bag', 'ankle boot']\n",
    "\n",
    "# np.random.seed(0)\n",
    "idx = np.random.randint(X_train.shape[0])\n",
    "\n",
    "plt.imshow(X_train[idx], cmap='gray_r')\n",
    "plt.title(label_class[y_train[idx]])\n",
    "plt.show()"
   ]
  },
  {
   "cell_type": "markdown",
   "metadata": {},
   "source": [
    "**Before going further**: what methods could you use to perform such a classification task?"
   ]
  },
  {
   "cell_type": "markdown",
   "metadata": {},
   "source": [
    "---"
   ]
  },
  {
   "cell_type": "markdown",
   "metadata": {},
   "source": [
    "The first method you will try is using neural networks. First step is the data preparation: data rescaling, label preparation.\n",
    "\n",
    "Hint: you can use the Keras function `to_categorical`"
   ]
  },
  {
   "cell_type": "code",
   "execution_count": 9,
   "metadata": {},
   "outputs": [],
   "source": [
    "# TODO: Make the data preparation\n",
    "from tensorflow.keras.utils import to_categorical\n",
    "\n",
    "y_train_cat = to_categorical(y_train, num_classes=10)\n",
    "y_test_cat = to_categorical(y_test, num_classes=10)\n",
    "\n",
    "X_train_norm = X_train/255\n",
    "X_test_norm = X_test/255\n",
    "\n",
    "# TODO: reshape the image data (2D array) into input 1D array for a neural network\n",
    "X_train_norm = X_train_norm.reshape(X_train_norm.shape[0], np.prod(X_train_norm.shape[1:]))\n",
    "X_test_norm = X_test_norm.reshape(X_test_norm.shape[0], np.prod(X_train_norm.shape[1:]))"
   ]
  },
  {
   "cell_type": "markdown",
   "metadata": {},
   "source": [
    "Next step: model building with Keras. Build your neural network architecture. At first, I would recommend a light architecture: no more than 2 hidden layers, with about 10 units per layer. Put that model into a function, so that you can reuse it later."
   ]
  },
  {
   "cell_type": "code",
   "execution_count": 13,
   "metadata": {},
   "outputs": [
    {
     "name": "stdout",
     "output_type": "stream",
     "text": [
      "Model: \"sequential_1\"\n",
      "_________________________________________________________________\n",
      " Layer (type)                Output Shape              Param #   \n",
      "=================================================================\n",
      " dense_1 (Dense)             (None, 10)                7850      \n",
      "                                                                 \n",
      " dense_2 (Dense)             (None, 10)                110       \n",
      "                                                                 \n",
      " dense_3 (Dense)             (None, 10)                110       \n",
      "                                                                 \n",
      "=================================================================\n",
      "Total params: 8,070\n",
      "Trainable params: 8,070\n",
      "Non-trainable params: 0\n",
      "_________________________________________________________________\n"
     ]
    }
   ],
   "source": [
    "# TODO: Build your model\n",
    "from tensorflow.keras.models import Sequential\n",
    "from tensorflow.keras.layers import Dense\n",
    "\n",
    "def my_model(input_dim):\n",
    "    # Create the Sequential object\n",
    "    model = Sequential()\n",
    "\n",
    "    # Add 2 dense layers with 10 neurons each using sigmoid or relu activation\n",
    "    model.add(Dense(10, input_dim=input_dim, activation=\"sigmoid\"))\n",
    "    model.add(Dense(10, activation=\"sigmoid\"))\n",
    "    \n",
    "    # Add the output layer with one unit: the predicted result\n",
    "    model.add(Dense(10, activation='softmax'))\n",
    "    \n",
    "    return model\n",
    "my_model(X_train_norm.shape[1]).summary()"
   ]
  },
  {
   "cell_type": "markdown",
   "metadata": {},
   "source": [
    "Now compile and fit your model on your training data. Since this is a multiclass classification, the loss is not `binary_crossentropy` anymore, but `categorical_crossentropy`."
   ]
  },
  {
   "cell_type": "code",
   "execution_count": 15,
   "metadata": {
    "scrolled": true
   },
   "outputs": [
    {
     "name": "stdout",
     "output_type": "stream",
     "text": [
      "Epoch 1/100\n",
      "469/469 [==============================] - 2s 3ms/step - loss: 1.8757 - accuracy: 0.3647\n",
      "Epoch 2/100\n",
      "469/469 [==============================] - 1s 2ms/step - loss: 1.3337 - accuracy: 0.5696\n",
      "Epoch 3/100\n",
      "469/469 [==============================] - 1s 2ms/step - loss: 1.0623 - accuracy: 0.6384\n",
      "Epoch 4/100\n",
      "469/469 [==============================] - 1s 2ms/step - loss: 0.9008 - accuracy: 0.6760\n",
      "Epoch 5/100\n",
      "469/469 [==============================] - 1s 2ms/step - loss: 0.7989 - accuracy: 0.6966\n",
      "Epoch 6/100\n",
      "469/469 [==============================] - 1s 2ms/step - loss: 0.7310 - accuracy: 0.7216\n",
      "Epoch 7/100\n",
      "469/469 [==============================] - 1s 2ms/step - loss: 0.6765 - accuracy: 0.7557\n",
      "Epoch 8/100\n",
      "469/469 [==============================] - 1s 2ms/step - loss: 0.6255 - accuracy: 0.7895\n",
      "Epoch 9/100\n",
      "469/469 [==============================] - 1s 2ms/step - loss: 0.5725 - accuracy: 0.8134\n",
      "Epoch 10/100\n",
      "469/469 [==============================] - 1s 2ms/step - loss: 0.5297 - accuracy: 0.8264\n",
      "Epoch 11/100\n",
      "469/469 [==============================] - 1s 2ms/step - loss: 0.4984 - accuracy: 0.8353\n",
      "Epoch 12/100\n",
      "469/469 [==============================] - 1s 2ms/step - loss: 0.4762 - accuracy: 0.8403\n",
      "Epoch 13/100\n",
      "469/469 [==============================] - 1s 2ms/step - loss: 0.4595 - accuracy: 0.8450\n",
      "Epoch 14/100\n",
      "469/469 [==============================] - 1s 2ms/step - loss: 0.4460 - accuracy: 0.8495\n",
      "Epoch 15/100\n",
      "469/469 [==============================] - 1s 2ms/step - loss: 0.4357 - accuracy: 0.8529\n",
      "Epoch 16/100\n",
      "469/469 [==============================] - 1s 2ms/step - loss: 0.4265 - accuracy: 0.8558\n",
      "Epoch 17/100\n",
      "469/469 [==============================] - 1s 2ms/step - loss: 0.4188 - accuracy: 0.8580\n",
      "Epoch 18/100\n",
      "469/469 [==============================] - 1s 2ms/step - loss: 0.4123 - accuracy: 0.8596\n",
      "Epoch 19/100\n",
      "469/469 [==============================] - 1s 2ms/step - loss: 0.4059 - accuracy: 0.8618\n",
      "Epoch 20/100\n",
      "469/469 [==============================] - 1s 2ms/step - loss: 0.4018 - accuracy: 0.8618\n",
      "Epoch 21/100\n",
      "469/469 [==============================] - 1s 2ms/step - loss: 0.3987 - accuracy: 0.8636\n",
      "Epoch 22/100\n",
      "469/469 [==============================] - 1s 2ms/step - loss: 0.3928 - accuracy: 0.8661\n",
      "Epoch 23/100\n",
      "469/469 [==============================] - 1s 2ms/step - loss: 0.3898 - accuracy: 0.8668\n",
      "Epoch 24/100\n",
      "469/469 [==============================] - 1s 2ms/step - loss: 0.3858 - accuracy: 0.8677\n",
      "Epoch 25/100\n",
      "469/469 [==============================] - 1s 2ms/step - loss: 0.3837 - accuracy: 0.8685\n",
      "Epoch 26/100\n",
      "469/469 [==============================] - 1s 2ms/step - loss: 0.3797 - accuracy: 0.8704\n",
      "Epoch 27/100\n",
      "469/469 [==============================] - 1s 2ms/step - loss: 0.3778 - accuracy: 0.8698\n",
      "Epoch 28/100\n",
      "469/469 [==============================] - 1s 2ms/step - loss: 0.3744 - accuracy: 0.8718\n",
      "Epoch 29/100\n",
      "469/469 [==============================] - 1s 2ms/step - loss: 0.3720 - accuracy: 0.8719\n",
      "Epoch 30/100\n",
      "469/469 [==============================] - 1s 2ms/step - loss: 0.3703 - accuracy: 0.8728\n",
      "Epoch 31/100\n",
      "469/469 [==============================] - 1s 2ms/step - loss: 0.3668 - accuracy: 0.8741\n",
      "Epoch 32/100\n",
      "469/469 [==============================] - 1s 2ms/step - loss: 0.3658 - accuracy: 0.8740\n",
      "Epoch 33/100\n",
      "469/469 [==============================] - 1s 2ms/step - loss: 0.3638 - accuracy: 0.8744\n",
      "Epoch 34/100\n",
      "469/469 [==============================] - 1s 2ms/step - loss: 0.3618 - accuracy: 0.8760\n",
      "Epoch 35/100\n",
      "469/469 [==============================] - 1s 2ms/step - loss: 0.3588 - accuracy: 0.8765\n",
      "Epoch 36/100\n",
      "469/469 [==============================] - 1s 2ms/step - loss: 0.3570 - accuracy: 0.8772\n",
      "Epoch 37/100\n",
      "469/469 [==============================] - 1s 2ms/step - loss: 0.3561 - accuracy: 0.8775\n",
      "Epoch 38/100\n",
      "469/469 [==============================] - 1s 2ms/step - loss: 0.3541 - accuracy: 0.8778\n",
      "Epoch 39/100\n",
      "469/469 [==============================] - 1s 2ms/step - loss: 0.3522 - accuracy: 0.8788\n",
      "Epoch 40/100\n",
      "469/469 [==============================] - 1s 2ms/step - loss: 0.3505 - accuracy: 0.8783\n",
      "Epoch 41/100\n",
      "469/469 [==============================] - 1s 2ms/step - loss: 0.3488 - accuracy: 0.8790\n",
      "Epoch 42/100\n",
      "469/469 [==============================] - 1s 2ms/step - loss: 0.3486 - accuracy: 0.8802\n",
      "Epoch 43/100\n",
      "469/469 [==============================] - 1s 2ms/step - loss: 0.3474 - accuracy: 0.8799\n",
      "Epoch 44/100\n",
      "469/469 [==============================] - 1s 2ms/step - loss: 0.3456 - accuracy: 0.8810\n",
      "Epoch 45/100\n",
      "469/469 [==============================] - 1s 2ms/step - loss: 0.3434 - accuracy: 0.8811\n",
      "Epoch 46/100\n",
      "469/469 [==============================] - 1s 2ms/step - loss: 0.3416 - accuracy: 0.8816\n",
      "Epoch 47/100\n",
      "469/469 [==============================] - 1s 2ms/step - loss: 0.3415 - accuracy: 0.8822\n",
      "Epoch 48/100\n",
      "469/469 [==============================] - 1s 2ms/step - loss: 0.3410 - accuracy: 0.8817\n",
      "Epoch 49/100\n",
      "469/469 [==============================] - 1s 2ms/step - loss: 0.3389 - accuracy: 0.8824\n",
      "Epoch 50/100\n",
      "469/469 [==============================] - 1s 2ms/step - loss: 0.3380 - accuracy: 0.8818\n",
      "Epoch 51/100\n",
      "469/469 [==============================] - 1s 2ms/step - loss: 0.3373 - accuracy: 0.8831\n",
      "Epoch 52/100\n",
      "469/469 [==============================] - 1s 2ms/step - loss: 0.3359 - accuracy: 0.8830\n",
      "Epoch 53/100\n",
      "469/469 [==============================] - 1s 2ms/step - loss: 0.3349 - accuracy: 0.8834\n",
      "Epoch 54/100\n",
      "469/469 [==============================] - 1s 2ms/step - loss: 0.3340 - accuracy: 0.8838\n",
      "Epoch 55/100\n",
      "469/469 [==============================] - 1s 2ms/step - loss: 0.3331 - accuracy: 0.8842\n",
      "Epoch 56/100\n",
      "469/469 [==============================] - 1s 2ms/step - loss: 0.3315 - accuracy: 0.8844\n",
      "Epoch 57/100\n",
      "469/469 [==============================] - 1s 2ms/step - loss: 0.3321 - accuracy: 0.8842\n",
      "Epoch 58/100\n",
      "469/469 [==============================] - 1s 2ms/step - loss: 0.3305 - accuracy: 0.8845\n",
      "Epoch 59/100\n",
      "469/469 [==============================] - 1s 2ms/step - loss: 0.3297 - accuracy: 0.8850\n",
      "Epoch 60/100\n",
      "469/469 [==============================] - 1s 2ms/step - loss: 0.3288 - accuracy: 0.8858\n",
      "Epoch 61/100\n",
      "469/469 [==============================] - 1s 2ms/step - loss: 0.3276 - accuracy: 0.8859\n",
      "Epoch 62/100\n",
      "469/469 [==============================] - 1s 2ms/step - loss: 0.3276 - accuracy: 0.8853\n",
      "Epoch 63/100\n",
      "469/469 [==============================] - 1s 2ms/step - loss: 0.3263 - accuracy: 0.8875\n",
      "Epoch 64/100\n",
      "469/469 [==============================] - 1s 2ms/step - loss: 0.3264 - accuracy: 0.8862\n",
      "Epoch 65/100\n",
      "469/469 [==============================] - 1s 2ms/step - loss: 0.3250 - accuracy: 0.8857\n",
      "Epoch 66/100\n",
      "469/469 [==============================] - 1s 2ms/step - loss: 0.3238 - accuracy: 0.8868\n",
      "Epoch 67/100\n",
      "469/469 [==============================] - 1s 2ms/step - loss: 0.3227 - accuracy: 0.8876\n",
      "Epoch 68/100\n",
      "469/469 [==============================] - 1s 2ms/step - loss: 0.3227 - accuracy: 0.8874\n",
      "Epoch 69/100\n",
      "469/469 [==============================] - 1s 2ms/step - loss: 0.3220 - accuracy: 0.8883\n",
      "Epoch 70/100\n",
      "469/469 [==============================] - 1s 2ms/step - loss: 0.3209 - accuracy: 0.8882\n",
      "Epoch 71/100\n",
      "469/469 [==============================] - 1s 2ms/step - loss: 0.3208 - accuracy: 0.8887\n",
      "Epoch 72/100\n",
      "469/469 [==============================] - 1s 2ms/step - loss: 0.3216 - accuracy: 0.8874\n",
      "Epoch 73/100\n",
      "469/469 [==============================] - 1s 2ms/step - loss: 0.3192 - accuracy: 0.8882\n",
      "Epoch 74/100\n",
      "469/469 [==============================] - 1s 2ms/step - loss: 0.3189 - accuracy: 0.8878\n",
      "Epoch 75/100\n",
      "469/469 [==============================] - 1s 2ms/step - loss: 0.3182 - accuracy: 0.8897\n",
      "Epoch 76/100\n",
      "469/469 [==============================] - 1s 2ms/step - loss: 0.3175 - accuracy: 0.8882\n",
      "Epoch 77/100\n",
      "469/469 [==============================] - 1s 2ms/step - loss: 0.3169 - accuracy: 0.8895\n",
      "Epoch 78/100\n",
      "469/469 [==============================] - 1s 2ms/step - loss: 0.3156 - accuracy: 0.8900\n",
      "Epoch 79/100\n",
      "469/469 [==============================] - 1s 2ms/step - loss: 0.3159 - accuracy: 0.8886\n",
      "Epoch 80/100\n",
      "469/469 [==============================] - 1s 2ms/step - loss: 0.3151 - accuracy: 0.8904\n",
      "Epoch 81/100\n"
     ]
    },
    {
     "name": "stdout",
     "output_type": "stream",
     "text": [
      "469/469 [==============================] - 1s 2ms/step - loss: 0.3143 - accuracy: 0.8906\n",
      "Epoch 82/100\n",
      "469/469 [==============================] - 1s 2ms/step - loss: 0.3151 - accuracy: 0.8907\n",
      "Epoch 83/100\n",
      "469/469 [==============================] - 1s 2ms/step - loss: 0.3135 - accuracy: 0.8910\n",
      "Epoch 84/100\n",
      "469/469 [==============================] - 1s 2ms/step - loss: 0.3124 - accuracy: 0.8905\n",
      "Epoch 85/100\n",
      "469/469 [==============================] - 1s 2ms/step - loss: 0.3127 - accuracy: 0.8907\n",
      "Epoch 86/100\n",
      "469/469 [==============================] - 1s 2ms/step - loss: 0.3131 - accuracy: 0.8897\n",
      "Epoch 87/100\n",
      "469/469 [==============================] - 1s 2ms/step - loss: 0.3104 - accuracy: 0.8921\n",
      "Epoch 88/100\n",
      "469/469 [==============================] - 1s 2ms/step - loss: 0.3099 - accuracy: 0.8917\n",
      "Epoch 89/100\n",
      "469/469 [==============================] - 1s 2ms/step - loss: 0.3100 - accuracy: 0.8919\n",
      "Epoch 90/100\n",
      "469/469 [==============================] - 1s 2ms/step - loss: 0.3091 - accuracy: 0.8921\n",
      "Epoch 91/100\n",
      "469/469 [==============================] - 1s 2ms/step - loss: 0.3079 - accuracy: 0.8913\n",
      "Epoch 92/100\n",
      "469/469 [==============================] - 1s 2ms/step - loss: 0.3105 - accuracy: 0.8912\n",
      "Epoch 93/100\n",
      "469/469 [==============================] - 1s 2ms/step - loss: 0.3091 - accuracy: 0.8921\n",
      "Epoch 94/100\n",
      "469/469 [==============================] - 1s 2ms/step - loss: 0.3074 - accuracy: 0.8920\n",
      "Epoch 95/100\n",
      "469/469 [==============================] - 1s 2ms/step - loss: 0.3072 - accuracy: 0.8934\n",
      "Epoch 96/100\n",
      "469/469 [==============================] - 1s 2ms/step - loss: 0.3061 - accuracy: 0.8927\n",
      "Epoch 97/100\n",
      "469/469 [==============================] - 1s 2ms/step - loss: 0.3058 - accuracy: 0.8938\n",
      "Epoch 98/100\n",
      "469/469 [==============================] - 1s 2ms/step - loss: 0.3062 - accuracy: 0.8924\n",
      "Epoch 99/100\n",
      "469/469 [==============================] - 1s 2ms/step - loss: 0.3050 - accuracy: 0.8931\n",
      "Epoch 100/100\n",
      "469/469 [==============================] - 1s 2ms/step - loss: 0.3040 - accuracy: 0.8939\n"
     ]
    },
    {
     "data": {
      "text/plain": [
       "<keras.callbacks.History at 0x23f10c3d820>"
      ]
     },
     "execution_count": 15,
     "metadata": {},
     "output_type": "execute_result"
    }
   ],
   "source": [
    "import os\n",
    "\n",
    "#https://stackoverflow.com/questions/53014306/error-15-initializing-libiomp5-dylib-but-found-libiomp5-dylib-already-initial\n",
    "# os.environ['KMP_DUPLICATE_LIB_OK']='True' \n",
    "\n",
    "# TODO: Compile and fit your model\n",
    "model = my_model(X_train_norm.shape[1])\n",
    "\n",
    "model.compile(optimizer='adam', loss='categorical_crossentropy', metrics=['accuracy'])\n",
    "\n",
    "model.fit(X_train_norm, y_train_cat, epochs=100, batch_size=128)"
   ]
  },
  {
   "cell_type": "markdown",
   "metadata": {},
   "source": [
    "Once your model has been trained, compute the accuracy (and other metrics if you want) on the train and test dataset.\n",
    "\n",
    "Be careful, Keras returns softmax output (so an array of 10 values between 0 and 1, for which the sum is equal to 1). To compute correctly the accuracy, you have to convert that array into a categorical array with zeros and a 1."
   ]
  },
  {
   "cell_type": "code",
   "execution_count": 16,
   "metadata": {},
   "outputs": [
    {
     "name": "stdout",
     "output_type": "stream",
     "text": [
      "accuracy on train with NN: 0.8932499885559082\n",
      "accuracy on test with NN: 0.8529999852180481\n"
     ]
    }
   ],
   "source": [
    "# TODO: Compute the accuracy of your model\n",
    "print('accuracy on train with NN:', model.evaluate(X_train_norm, y_train_cat, verbose=0)[1])\n",
    "print('accuracy on test with NN:', model.evaluate(X_test_norm, y_test_cat, verbose=0)[1])"
   ]
  },
  {
   "cell_type": "markdown",
   "metadata": {},
   "source": [
    "What do you think of those results? Can you improve it by changing the number of layers? Of units per layer? The number of epochs? The activation functions?\n",
    "\n",
    "You should try!"
   ]
  },
  {
   "cell_type": "markdown",
   "metadata": {},
   "source": [
    "---"
   ]
  },
  {
   "cell_type": "markdown",
   "metadata": {},
   "source": [
    "In order to compare your results with more traditional machine learning methods, you will do this work with another method: a PCA followed by a classification model (of your choice). Of course, you can perform hyperparameter optimization using a gridsearch on that model!\n",
    "\n",
    "Fit your model and display the performances."
   ]
  },
  {
   "cell_type": "code",
   "execution_count": 17,
   "metadata": {},
   "outputs": [],
   "source": [
    "# TODO: Redo the classification with PCA and classification model\n",
    "from sklearn.decomposition import PCA\n",
    "\n",
    "pca = PCA(n_components=0.9)\n",
    "\n",
    "pca.fit(X_train_norm)\n",
    "X_train_pca = pca.transform(X_train_norm)\n",
    "X_test_pca = pca.transform(X_test_norm)"
   ]
  },
  {
   "cell_type": "code",
   "execution_count": 18,
   "metadata": {},
   "outputs": [
    {
     "name": "stdout",
     "output_type": "stream",
     "text": [
      "score with RF on train 1.0\n",
      "score with RF on train 0.8588\n"
     ]
    }
   ],
   "source": [
    "# TODO: use any classifier you want\n",
    "from sklearn.ensemble import RandomForestClassifier\n",
    "\n",
    "rf = RandomForestClassifier()\n",
    "\n",
    "rf.fit(X_train_pca, y_train)\n",
    "\n",
    "print('score with RF on train', rf.score(X_train_pca, y_train))\n",
    "print('score with RF on train', rf.score(X_test_pca, y_test))"
   ]
  },
  {
   "cell_type": "markdown",
   "metadata": {},
   "source": [
    "Are the performances different? Can you explain why?"
   ]
  },
  {
   "cell_type": "markdown",
   "metadata": {},
   "source": [
    "If you still have time, you could try to use scikit-learn's `Pipeline` to perform the hyperparameter optimization jointly on the PCA and the classification model. This might improve your performances."
   ]
  }
 ],
 "metadata": {
  "kernelspec": {
   "display_name": "Python 3 (ipykernel)",
   "language": "python",
   "name": "python3"
  },
  "language_info": {
   "codemirror_mode": {
    "name": "ipython",
    "version": 3
   },
   "file_extension": ".py",
   "mimetype": "text/x-python",
   "name": "python",
   "nbconvert_exporter": "python",
   "pygments_lexer": "ipython3",
   "version": "3.9.7"
  },
  "toc": {
   "base_numbering": 1,
   "nav_menu": {},
   "number_sections": true,
   "sideBar": true,
   "skip_h1_title": false,
   "title_cell": "Table of Contents",
   "title_sidebar": "Contents",
   "toc_cell": false,
   "toc_position": {},
   "toc_section_display": true,
   "toc_window_display": false
  }
 },
 "nbformat": 4,
 "nbformat_minor": 2
}
