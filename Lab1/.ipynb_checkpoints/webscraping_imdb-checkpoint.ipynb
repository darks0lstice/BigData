{
 "cells": [
  {
   "cell_type": "code",
   "execution_count": 56,
   "metadata": {},
   "outputs": [],
   "source": [
    "# Write a Python script to download IMDB 250 Top Rated Movies.\n",
    "# For each movie, you'll need to retrieve the movie title, the ranking, the initial release year, the casting and \n",
    "# the rating.\n",
    "# Your data must be stored in a proper imdb_top_250.csv file.\n",
    "\n",
    "import requests, csv\n",
    "from bs4 import BeautifulSoup\n",
    "\n",
    "def get_movies(url):\n",
    "    response = requests.get(url)\n",
    "    soup_imdb = BeautifulSoup(response.text)\n",
    "\n",
    "    all_movies = soup_imdb.find_all(\"td\", {\"class\":\"titleColumn\"})\n",
    "    \n",
    "    names =[]\n",
    "    for movie in all_movies:\n",
    "        name = movie.find('a').get_text()\n",
    "        names.append(name)\n",
    "        \n",
    "    years = []\n",
    "    for movie in all_movies:\n",
    "        year = movie.find('span').get_text()\n",
    "        years.append(year)\n",
    "    \n",
    "    casts = []\n",
    "    for movie in all_movies:\n",
    "        cast = movie.find([title]).get_text()\n",
    "        casts.append(cast)\n",
    "    print(casts)\n",
    "        \n"
   ]
  },
  {
   "cell_type": "code",
   "execution_count": null,
   "metadata": {},
   "outputs": [],
   "source": [
    "def main():\n",
    "    url = \"https://www.imdb.com/chart/top\"\n",
    "    get_movies(url)\n",
    "    \n",
    "\n",
    "if __name__ == \"__main__\":\n",
    "    main()"
   ]
  },
  {
   "cell_type": "code",
   "execution_count": null,
   "metadata": {},
   "outputs": [],
   "source": [
    "import pandas as pd\n",
    "\n",
    "#Read CSV and show the first 5 rows"
   ]
  },
  {
   "cell_type": "code",
   "execution_count": null,
   "metadata": {},
   "outputs": [],
   "source": []
  },
  {
   "cell_type": "code",
   "execution_count": null,
   "metadata": {},
   "outputs": [],
   "source": []
  }
 ],
 "metadata": {
  "kernelspec": {
   "display_name": "Python 3 (ipykernel)",
   "language": "python",
   "name": "python3"
  },
  "language_info": {
   "codemirror_mode": {
    "name": "ipython",
    "version": 3
   },
   "file_extension": ".py",
   "mimetype": "text/x-python",
   "name": "python",
   "nbconvert_exporter": "python",
   "pygments_lexer": "ipython3",
   "version": "3.9.7"
  }
 },
 "nbformat": 4,
 "nbformat_minor": 2
}
