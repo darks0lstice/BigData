{
 "cells": [
  {
   "cell_type": "markdown",
   "metadata": {},
   "source": [
    "# Topic Modelling for News"
   ]
  },
  {
   "cell_type": "markdown",
   "metadata": {},
   "source": [
    "![](https://images.unsplash.com/photo-1495020689067-958852a7765e?ixlib=rb-1.2.1&ixid=eyJhcHBfaWQiOjEyMDd9&auto=format&fit=crop&w=1050&q=80)\n",
    "\n",
    "Photo by [Roman Kraft](https://unsplash.com/photos/_Zua2hyvTBk)"
   ]
  },
  {
   "cell_type": "markdown",
   "metadata": {},
   "source": [
    "This exercise is about modelling the main topics of a database of News headlines."
   ]
  },
  {
   "cell_type": "markdown",
   "metadata": {},
   "source": [
    "Begin by importing the needed libraries:"
   ]
  },
  {
   "cell_type": "code",
   "execution_count": 1,
   "metadata": {},
   "outputs": [],
   "source": [
    "# TODO: import needed libraries\n",
    "import nltk\n",
    "import numpy as np\n",
    "import pandas as pd\n",
    "import gensim"
   ]
  },
  {
   "cell_type": "markdown",
   "metadata": {},
   "source": [
    "Load the data in the file `random_headlines.csv`"
   ]
  },
  {
   "cell_type": "code",
   "execution_count": 2,
   "metadata": {
    "scrolled": true
   },
   "outputs": [
    {
     "name": "stdout",
     "output_type": "stream",
     "text": [
      "(20000, 2)\n"
     ]
    },
    {
     "data": {
      "text/html": [
       "<div>\n",
       "<style scoped>\n",
       "    .dataframe tbody tr th:only-of-type {\n",
       "        vertical-align: middle;\n",
       "    }\n",
       "\n",
       "    .dataframe tbody tr th {\n",
       "        vertical-align: top;\n",
       "    }\n",
       "\n",
       "    .dataframe thead th {\n",
       "        text-align: right;\n",
       "    }\n",
       "</style>\n",
       "<table border=\"1\" class=\"dataframe\">\n",
       "  <thead>\n",
       "    <tr style=\"text-align: right;\">\n",
       "      <th></th>\n",
       "      <th>publish_date</th>\n",
       "      <th>headline_text</th>\n",
       "    </tr>\n",
       "  </thead>\n",
       "  <tbody>\n",
       "    <tr>\n",
       "      <th>0</th>\n",
       "      <td>20120305</td>\n",
       "      <td>ute driver hurt in intersection crash</td>\n",
       "    </tr>\n",
       "    <tr>\n",
       "      <th>1</th>\n",
       "      <td>20081128</td>\n",
       "      <td>6yo dies in cycling accident</td>\n",
       "    </tr>\n",
       "    <tr>\n",
       "      <th>2</th>\n",
       "      <td>20090325</td>\n",
       "      <td>bumper olive harvest expected</td>\n",
       "    </tr>\n",
       "    <tr>\n",
       "      <th>3</th>\n",
       "      <td>20100201</td>\n",
       "      <td>replica replaces northernmost sign</td>\n",
       "    </tr>\n",
       "    <tr>\n",
       "      <th>4</th>\n",
       "      <td>20080225</td>\n",
       "      <td>woods targets perfect season</td>\n",
       "    </tr>\n",
       "  </tbody>\n",
       "</table>\n",
       "</div>"
      ],
      "text/plain": [
       "   publish_date                          headline_text\n",
       "0      20120305  ute driver hurt in intersection crash\n",
       "1      20081128           6yo dies in cycling accident\n",
       "2      20090325          bumper olive harvest expected\n",
       "3      20100201     replica replaces northernmost sign\n",
       "4      20080225           woods targets perfect season"
      ]
     },
     "execution_count": 2,
     "metadata": {},
     "output_type": "execute_result"
    }
   ],
   "source": [
    "# TODO: load the dataset\n",
    "df = pd.read_csv('random_headlines.csv')\n",
    "print(df.shape)\n",
    "df.head()"
   ]
  },
  {
   "cell_type": "markdown",
   "metadata": {},
   "source": [
    "This is always a good idea to perform some EDA (exploratory data analytics) on a dataset..."
   ]
  },
  {
   "cell_type": "code",
   "execution_count": 3,
   "metadata": {},
   "outputs": [
    {
     "name": "stdout",
     "output_type": "stream",
     "text": [
      "<class 'pandas.core.frame.DataFrame'>\n",
      "RangeIndex: 20000 entries, 0 to 19999\n",
      "Data columns (total 2 columns):\n",
      " #   Column         Non-Null Count  Dtype \n",
      "---  ------         --------------  ----- \n",
      " 0   publish_date   20000 non-null  int64 \n",
      " 1   headline_text  20000 non-null  object\n",
      "dtypes: int64(1), object(1)\n",
      "memory usage: 312.6+ KB\n"
     ]
    }
   ],
   "source": [
    "# TODO: Perform a short EDA\n",
    "df.info()\n"
   ]
  },
  {
   "cell_type": "markdown",
   "metadata": {},
   "source": [
    "Now perform all the needed preprocessing on those headlines: case lowering, tokenization, punctuation removal, stopwords removal, stemming/lemmatization."
   ]
  },
  {
   "cell_type": "code",
   "execution_count": 4,
   "metadata": {},
   "outputs": [
    {
     "data": {
      "text/plain": [
       "0    [ute, driver, hurt, intersect, crash]\n",
       "1                       [die, cycl, accid]\n",
       "2          [bumper, oliv, harvest, expect]\n",
       "3    [replica, replac, northernmost, sign]\n",
       "4          [wood, target, perfect, season]\n",
       "Name: stemmed, dtype: object"
      ]
     },
     "execution_count": 4,
     "metadata": {},
     "output_type": "execute_result"
    }
   ],
   "source": [
    "df['tokens'] = df['headline_text'].apply(lambda row: nltk.word_tokenize(row))\n",
    "df['alphanumeric']=df['tokens'].apply(lambda row: [\n",
    "    word for word in row if word.isalpha()\n",
    "])\n",
    "stop = nltk.corpus.stopwords.words('english')\n",
    "df['stop'] = df['alphanumeric'].apply(lambda row: [\n",
    "    word for word in row if word not in stop\n",
    "])\n",
    "stemmer = nltk.PorterStemmer()\n",
    "df['stemmed'] = df['stop'].apply(lambda row: [\n",
    "    stemmer.stem(word) for word in row\n",
    "])\n",
    "df['stemmed'].head()"
   ]
  },
  {
   "cell_type": "code",
   "execution_count": null,
   "metadata": {},
   "outputs": [],
   "source": []
  },
  {
   "cell_type": "markdown",
   "metadata": {},
   "source": [
    "Now use Gensim to compute a BOW"
   ]
  },
  {
   "cell_type": "code",
   "execution_count": 10,
   "metadata": {},
   "outputs": [
    {
     "name": "stdout",
     "output_type": "stream",
     "text": [
      "(20000,)\n"
     ]
    },
    {
     "data": {
      "text/plain": [
       "[[(0, 1), (1, 1), (2, 1), (3, 1), (4, 1)], [(5, 1), (6, 1), (7, 1)]]"
      ]
     },
     "execution_count": 10,
     "metadata": {},
     "output_type": "execute_result"
    }
   ],
   "source": [
    "from gensim.corpora import Dictionary\n",
    "dictionary = Dictionary(df['stemmed'])\n",
    "corpus = [dictionary.doc2bow(line) for line in df['stemmed']]\n",
    "print(np.shape(corpus))\n",
    "corpus[0:2]"
   ]
  },
  {
   "cell_type": "markdown",
   "metadata": {},
   "source": [
    "Compute the TF-IDF using Gensim"
   ]
  },
  {
   "cell_type": "code",
   "execution_count": 14,
   "metadata": {},
   "outputs": [
    {
     "name": "stdout",
     "output_type": "stream",
     "text": [
      "(20000,)\n"
     ]
    },
    {
     "name": "stderr",
     "output_type": "stream",
     "text": [
      "C:\\ProgramData\\Anaconda3\\lib\\site-packages\\numpy\\core\\_asarray.py:102: VisibleDeprecationWarning: Creating an ndarray from ragged nested sequences (which is a list-or-tuple of lists-or-tuples-or ndarrays with different lengths or shapes) is deprecated. If you meant to do this, you must specify 'dtype=object' when creating the ndarray.\n",
      "  return array(a, dtype, copy=False, order=order)\n"
     ]
    }
   ],
   "source": [
    "# TODO: Compute TF-IDF\n",
    "from gensim.models import TfidfModel\n",
    "tfidf_model = TfidfModel(corpus)\n",
    "tf_idf = tfidf_model[corpus]\n",
    "print(np.shape(tf_idf))"
   ]
  },
  {
   "cell_type": "markdown",
   "metadata": {},
   "source": [
    "Finally compute the **LSA** (also called LSI) using Gensim, for a given number of Topics that you choose yourself"
   ]
  },
  {
   "cell_type": "code",
   "execution_count": 18,
   "metadata": {},
   "outputs": [],
   "source": [
    "# TODO: Compute LSA\n",
    "from gensim.models import LsiModel\n",
    " \n",
    "lsi = LsiModel(corpus = corpus, num_topics = 4, id2word=dictionary)\n"
   ]
  },
  {
   "cell_type": "markdown",
   "metadata": {},
   "source": [
    "For each of the topic, show the most significant words."
   ]
  },
  {
   "cell_type": "code",
   "execution_count": 20,
   "metadata": {},
   "outputs": [
    {
     "data": {
      "text/plain": [
       "[(0, '-0.751*\"polic\" + -0.404*\"man\" + -0.208*\"charg\"'),\n",
       " (1, '0.670*\"man\" + -0.574*\"polic\" + 0.326*\"charg\"'),\n",
       " (2, '0.655*\"new\" + 0.296*\"plan\" + 0.241*\"say\"'),\n",
       " (3, '-0.702*\"new\" + 0.345*\"say\" + 0.335*\"plan\"')]"
      ]
     },
     "execution_count": 20,
     "metadata": {},
     "output_type": "execute_result"
    }
   ],
   "source": [
    "# TODO: Print the 3 or 4 most significant words of each topic\n",
    "lsi.print_topics(num_words=3)"
   ]
  },
  {
   "cell_type": "markdown",
   "metadata": {},
   "source": [
    "What do you think about those results?"
   ]
  },
  {
   "cell_type": "markdown",
   "metadata": {},
   "source": [
    "the rows seem to be ordered in pairs, with different orders."
   ]
  },
  {
   "cell_type": "markdown",
   "metadata": {},
   "source": [
    "\n",
    "\n",
    "Now let's try to use LDA instead of LSA using Gensim"
   ]
  },
  {
   "cell_type": "code",
   "execution_count": 25,
   "metadata": {},
   "outputs": [],
   "source": [
    "# TODO: Compute LDA\n",
    "from gensim.models import LdaModel\n",
    "\n",
    "lda = LdaModel(corpus=corpus, num_topics=4, id2word=dictionary, random_state=0, chunksize=512, passes=5)"
   ]
  },
  {
   "cell_type": "code",
   "execution_count": 26,
   "metadata": {
    "scrolled": true
   },
   "outputs": [
    {
     "data": {
      "text/plain": [
       "[(0, '0.016*\"report\" + 0.009*\"back\" + 0.009*\"may\"'),\n",
       " (1, '0.012*\"mine\" + 0.011*\"polic\" + 0.009*\"elect\"'),\n",
       " (2, '0.013*\"question\" + 0.010*\"council\" + 0.010*\"fund\"'),\n",
       " (3, '0.012*\"sydney\" + 0.012*\"charg\" + 0.011*\"australian\"')]"
      ]
     },
     "execution_count": 26,
     "metadata": {},
     "output_type": "execute_result"
    }
   ],
   "source": [
    "# TODO: print the most frequent words of each topic\n",
    "lda.print_topics(num_words=3)"
   ]
  },
  {
   "cell_type": "markdown",
   "metadata": {},
   "source": [
    "Now, how does it work with LDA?"
   ]
  },
  {
   "cell_type": "markdown",
   "metadata": {},
   "source": [
    "Let's make some visualization of the LDA results using pyLDAvis."
   ]
  },
  {
   "cell_type": "code",
   "execution_count": 27,
   "metadata": {},
   "outputs": [
    {
     "name": "stdout",
     "output_type": "stream",
     "text": [
      "Collecting pyldavis\n",
      "  Downloading pyLDAvis-3.3.1.tar.gz (1.7 MB)\n",
      "  Installing build dependencies: started\n",
      "  Installing build dependencies: finished with status 'done'\n",
      "  Getting requirements to build wheel: started\n",
      "  Getting requirements to build wheel: finished with status 'done'\n",
      "  Installing backend dependencies: started\n",
      "  Installing backend dependencies: finished with status 'done'\n",
      "    Preparing wheel metadata: started\n",
      "    Preparing wheel metadata: finished with status 'done'\n",
      "Requirement already satisfied: future in c:\\programdata\\anaconda3\\lib\\site-packages (from pyldavis) (0.18.2)\n",
      "Requirement already satisfied: jinja2 in c:\\programdata\\anaconda3\\lib\\site-packages (from pyldavis) (2.11.3)\n",
      "Requirement already satisfied: gensim in c:\\users\\darks\\appdata\\roaming\\python\\python39\\site-packages (from pyldavis) (4.2.0)\n",
      "Collecting funcy\n",
      "  Downloading funcy-1.17-py2.py3-none-any.whl (33 kB)\n",
      "Requirement already satisfied: scikit-learn in c:\\programdata\\anaconda3\\lib\\site-packages (from pyldavis) (0.24.2)\n",
      "Requirement already satisfied: scipy in c:\\programdata\\anaconda3\\lib\\site-packages (from pyldavis) (1.7.1)\n",
      "Requirement already satisfied: numpy>=1.20.0 in c:\\programdata\\anaconda3\\lib\\site-packages (from pyldavis) (1.20.3)\n",
      "Requirement already satisfied: numexpr in c:\\programdata\\anaconda3\\lib\\site-packages (from pyldavis) (2.7.3)\n",
      "Requirement already satisfied: setuptools in c:\\programdata\\anaconda3\\lib\\site-packages (from pyldavis) (58.0.4)\n",
      "Collecting sklearn\n",
      "  Downloading sklearn-0.0.tar.gz (1.1 kB)\n",
      "Requirement already satisfied: joblib in c:\\programdata\\anaconda3\\lib\\site-packages (from pyldavis) (1.1.0)\n",
      "Requirement already satisfied: pandas>=1.2.0 in c:\\programdata\\anaconda3\\lib\\site-packages (from pyldavis) (1.3.4)\n",
      "Requirement already satisfied: python-dateutil>=2.7.3 in c:\\programdata\\anaconda3\\lib\\site-packages (from pandas>=1.2.0->pyldavis) (2.8.2)\n",
      "Requirement already satisfied: pytz>=2017.3 in c:\\programdata\\anaconda3\\lib\\site-packages (from pandas>=1.2.0->pyldavis) (2021.3)\n",
      "Requirement already satisfied: six>=1.5 in c:\\users\\darks\\appdata\\roaming\\python\\python39\\site-packages (from python-dateutil>=2.7.3->pandas>=1.2.0->pyldavis) (1.15.0)\n",
      "Requirement already satisfied: smart-open>=1.8.1 in c:\\programdata\\anaconda3\\lib\\site-packages (from gensim->pyldavis) (6.0.0)\n",
      "Requirement already satisfied: Cython==0.29.28 in c:\\users\\darks\\appdata\\roaming\\python\\python39\\site-packages (from gensim->pyldavis) (0.29.28)\n",
      "Requirement already satisfied: MarkupSafe>=0.23 in c:\\programdata\\anaconda3\\lib\\site-packages (from jinja2->pyldavis) (1.1.1)\n",
      "Requirement already satisfied: threadpoolctl>=2.0.0 in c:\\programdata\\anaconda3\\lib\\site-packages (from scikit-learn->pyldavis) (2.2.0)\n",
      "Building wheels for collected packages: pyldavis, sklearn\n",
      "  Building wheel for pyldavis (PEP 517): started\n",
      "  Building wheel for pyldavis (PEP 517): finished with status 'done'\n",
      "  Created wheel for pyldavis: filename=pyLDAvis-3.3.1-py2.py3-none-any.whl size=136882 sha256=78dc66b53a34631dc5b642adde105808aa694149d59a23b0236e8c4fe6bec787\n",
      "  Stored in directory: c:\\users\\darks\\appdata\\local\\pip\\cache\\wheels\\57\\a4\\86\\d10c6c2e0bf149fbc0afb0aa5a6528ac35b30a133a0270c477\n",
      "  Building wheel for sklearn (setup.py): started\n",
      "  Building wheel for sklearn (setup.py): finished with status 'done'\n",
      "  Created wheel for sklearn: filename=sklearn-0.0-py2.py3-none-any.whl size=1309 sha256=bfedcdbecfb353e6024a28fc4a0d54ed360669ca9178953bf4895378755efa9c\n",
      "  Stored in directory: c:\\users\\darks\\appdata\\local\\pip\\cache\\wheels\\e4\\7b\\98\\b6466d71b8d738a0c547008b9eb39bf8676d1ff6ca4b22af1c\n",
      "Successfully built pyldavis sklearn\n",
      "Installing collected packages: sklearn, funcy, pyldavis\n",
      "Successfully installed funcy-1.17 pyldavis-3.3.1 sklearn-0.0\n"
     ]
    }
   ],
   "source": [
    "!pip install pyldavis --user"
   ]
  },
  {
   "cell_type": "code",
   "execution_count": 34,
   "metadata": {},
   "outputs": [
    {
     "data": {
      "text/html": [
       "\n",
       "<link rel=\"stylesheet\" type=\"text/css\" href=\"https://cdn.jsdelivr.net/gh/bmabey/pyLDAvis@3.3.1/pyLDAvis/js/ldavis.v1.0.0.css\">\n",
       "\n",
       "\n",
       "<div id=\"ldavis_el370828743285150721931519520\"></div>\n",
       "<script type=\"text/javascript\">\n",
       "\n",
       "var ldavis_el370828743285150721931519520_data = {\"mdsDat\": {\"x\": [-0.2284944754756353, -0.14962677734482066, 0.21956892710498804, 0.15855232571546815], \"y\": [-0.028622697601103836, -0.010718853183251716, -0.23570060901961548, 0.27504215980397106], \"topics\": [1, 2, 3, 4], \"cluster\": [1, 1, 1, 1], \"Freq\": [26.892767877827517, 26.67331442527799, 23.91931227939974, 22.514605417494757]}, \"tinfo\": {\"Term\": [\"report\", \"question\", \"mine\", \"sydney\", \"charg\", \"council\", \"australian\", \"fund\", \"interview\", \"elect\", \"back\", \"win\", \"may\", \"labor\", \"trial\", \"union\", \"road\", \"cut\", \"call\", \"govern\", \"final\", \"lead\", \"stori\", \"begin\", \"want\", \"urg\", \"warn\", \"govt\", \"forc\", \"attack\", \"question\", \"council\", \"fund\", \"cut\", \"govern\", \"urg\", \"forc\", \"set\", \"want\", \"aussi\", \"support\", \"concern\", \"farmer\", \"approv\", \"group\", \"doctor\", \"claim\", \"hospit\", \"school\", \"mp\", \"citi\", \"coast\", \"team\", \"figur\", \"ban\", \"reduc\", \"titl\", \"men\", \"job\", \"seek\", \"disput\", \"draw\", \"next\", \"drug\", \"govt\", \"plan\", \"new\", \"say\", \"wa\", \"fear\", \"polic\", \"chang\", \"mine\", \"elect\", \"win\", \"road\", \"final\", \"warn\", \"commun\", \"club\", \"run\", \"rise\", \"station\", \"student\", \"drought\", \"perth\", \"woman\", \"rate\", \"found\", \"search\", \"debat\", \"stage\", \"fall\", \"turnbul\", \"held\", \"record\", \"minist\", \"world\", \"injuri\", \"telstra\", \"countri\", \"review\", \"qld\", \"econom\", \"friday\", \"eye\", \"debt\", \"polic\", \"call\", \"water\", \"help\", \"health\", \"take\", \"trade\", \"futur\", \"miss\", \"hit\", \"sydney\", \"charg\", \"australian\", \"interview\", \"trial\", \"stori\", \"lead\", \"murder\", \"market\", \"open\", \"shoot\", \"accus\", \"leav\", \"day\", \"test\", \"two\", \"busi\", \"success\", \"olymp\", \"bu\", \"risk\", \"point\", \"board\", \"arm\", \"pull\", \"full\", \"second\", \"appoint\", \"hope\", \"fourth\", \"latest\", \"sieg\", \"line\", \"sold\", \"man\", \"melbourn\", \"polic\", \"court\", \"us\", \"report\", \"back\", \"may\", \"labor\", \"union\", \"begin\", \"blaze\", \"car\", \"die\", \"drum\", \"work\", \"news\", \"pole\", \"dead\", \"judg\", \"abc\", \"great\", \"rural\", \"collaps\", \"resid\", \"state\", \"train\", \"garrett\", \"iraq\", \"pakistan\", \"big\", \"fail\", \"deni\", \"former\", \"bid\", \"italian\", \"singapor\", \"lock\", \"sunday\", \"paint\", \"attack\", \"pay\", \"crash\", \"call\", \"kill\", \"man\", \"us\"], \"Freq\": [373.0, 354.0, 336.0, 298.0, 284.0, 284.0, 259.0, 264.0, 229.0, 235.0, 203.0, 229.0, 202.0, 190.0, 195.0, 183.0, 206.0, 206.0, 366.0, 199.0, 195.0, 176.0, 175.0, 167.0, 188.0, 183.0, 179.0, 343.0, 180.0, 230.0, 353.65640223236403, 283.8475669388348, 264.1638514800384, 206.042450285784, 198.96310501106586, 182.68975711430969, 179.83475449745364, 172.3192446838117, 187.9363865070437, 167.18698498460324, 162.57454081000103, 147.4863234883141, 142.85454361513223, 142.52568256759528, 135.9020944831856, 138.2686683605717, 132.43108605915472, 127.63853081585613, 120.16087015039733, 119.46610830847615, 124.8248590576916, 115.42761961450316, 124.99843067749956, 122.9494247718687, 112.59362288945955, 119.99919544546296, 134.99723518021932, 120.29677248898568, 107.57169872473747, 105.92263986015932, 112.26038079659656, 109.14043414245853, 109.45870873442763, 166.94192909443174, 232.0785144479845, 208.70990305023764, 221.34012268650343, 162.20055884989816, 147.6188982880771, 133.92635866991338, 172.3230090424056, 127.4949841313177, 335.9709163808013, 234.93144996142075, 228.4688627569808, 206.07224584886652, 194.37088990040988, 179.2113038340973, 147.21567626132486, 150.34315427632004, 155.48275855491593, 140.19992413219757, 137.64280107836527, 146.02487439431016, 152.74633156984027, 145.53468438456878, 127.96106415959353, 126.62969647170286, 120.22515271881672, 116.99271226464508, 111.62940814147682, 117.16853741163509, 109.05686630029433, 115.30598612813067, 113.86453339567943, 102.20625448080733, 102.14461755980497, 100.66405080440215, 116.1786767493519, 111.87785450260625, 95.22567247819782, 95.70455962481554, 167.03568637522795, 115.5578093311178, 111.96941151674767, 113.38548059266869, 104.5249533852878, 291.3669895933946, 185.108811596352, 129.4352021726673, 137.645986778231, 123.09163271521145, 125.75917212639034, 121.02399881715006, 121.7144546632514, 118.86817200400547, 118.59439295754366, 298.2143947255851, 283.7156727215124, 258.84956458656086, 229.11118651887563, 194.49722465545133, 175.10933201731763, 175.72692181037573, 163.84695147849195, 152.26590301680406, 146.69732190396462, 141.03290158758784, 136.239581584178, 133.54885052209022, 130.0427377539805, 122.43677081122763, 121.85073127940318, 114.17898986955113, 110.28429809628024, 110.43403899566655, 104.85083117714835, 113.75808355941713, 103.39446837609613, 104.28217228543123, 102.28001624739878, 97.05859085215369, 100.93639335121112, 93.30105872596262, 97.18396914489382, 95.90242975804424, 99.42808289077168, 101.52271856088088, 99.22529732907222, 99.90639902069482, 98.87706746277956, 229.20646579383617, 125.23905335834361, 217.13579978666556, 145.126208026017, 113.43620461757388, 373.0616703655906, 202.46770795466736, 201.56381380276758, 189.39615684152355, 182.60406497242164, 166.60784039977153, 154.3242656500199, 134.54367001351667, 120.66073740495948, 121.39427747553947, 114.25478719006767, 109.06208544787614, 114.69110574725525, 106.26921644047826, 113.36858671563797, 101.14533180980864, 105.9601955567608, 93.39029515700712, 119.81829248065029, 90.92843236873631, 91.3202316973229, 89.96114214692248, 94.8317113988093, 79.60563506164463, 79.37441257862082, 75.22619712098033, 74.03199220813464, 72.51417047216304, 71.77347226033298, 71.9942398773988, 104.85286176007745, 103.5595776314168, 99.87876567192956, 96.69493630667012, 92.90630585298224, 187.18372650342357, 135.06872585892802, 156.61074053262078, 181.2086415360067, 143.07350688691352, 112.83836797345725, 100.27648081973105], \"Total\": [373.0, 354.0, 336.0, 298.0, 284.0, 284.0, 259.0, 264.0, 229.0, 235.0, 203.0, 229.0, 202.0, 190.0, 195.0, 183.0, 206.0, 206.0, 366.0, 199.0, 195.0, 176.0, 175.0, 167.0, 188.0, 183.0, 179.0, 343.0, 180.0, 230.0, 354.44295551125066, 284.54897539929937, 264.90564683067873, 206.7631216384068, 199.681316669622, 183.38960752808967, 180.55909641772334, 173.03335146277988, 188.72922760827797, 167.91717431935052, 163.30251100756914, 148.18958695454205, 143.55553487846822, 143.25260110671536, 136.6030239066057, 138.9866130162441, 133.13918423051183, 128.34769566730424, 120.86780419075109, 120.17404036588367, 125.57557330826346, 116.12356871474117, 125.75220797898928, 123.7143440052996, 113.30042371521097, 120.7536485763669, 135.8530359305152, 121.0680997344399, 108.26999307500422, 106.63453132554957, 113.03625005552004, 109.9328444827064, 110.34565227093097, 205.24259725670305, 343.3593683102398, 322.7045588180957, 442.17284720035843, 329.53283849247816, 254.58717028180322, 184.55323142611527, 698.4249263119373, 169.19481727889143, 336.7189626457715, 235.65342234617742, 229.18628660803975, 206.7909016568346, 195.08925322045604, 179.92896923450067, 147.92557821344187, 151.0845162762114, 156.26004916748514, 140.90334125518, 138.36360970477682, 146.79479637404415, 153.5548629015708, 146.30883821345418, 128.6763749503395, 127.35461721087545, 120.93828224872713, 117.70139861797351, 112.33491878529077, 117.91208438696309, 109.7685289052004, 116.0682920037501, 114.63456423839065, 102.91525403206957, 102.85333452787151, 101.37137636972857, 117.01348748224795, 112.69947029654585, 95.92641417985999, 96.41736774399072, 168.4517635258042, 116.47671016288893, 112.88293765523706, 114.38326323765344, 105.56945407652758, 698.4249263119373, 366.79364308698973, 180.51530158645969, 224.3556863998691, 164.41093263104764, 195.05870676437212, 161.49005893049582, 176.48425456934757, 166.2077565715294, 182.09343850095695, 298.94059201326536, 284.4328887104897, 259.62132724531335, 229.82001890749885, 195.23245492466882, 175.8426092167234, 176.46741612895934, 164.56129434252992, 152.99027391141126, 147.42484752985848, 141.7618314912341, 136.9662613487639, 134.27445178729957, 130.76037476692377, 123.1579793320328, 122.58153164726902, 114.91057032750228, 111.01479179222873, 111.18023072708435, 105.58439690505163, 114.57705070402578, 104.15299614095485, 105.04841467327539, 103.03434180543515, 97.7773901709057, 101.69680962314034, 94.01184578681168, 97.92687669392028, 96.63601947310524, 100.19390445273123, 102.32641992922224, 100.00107477510718, 100.73430768507932, 99.84512680645591, 385.3886258340949, 150.85419111522913, 698.4249263119373, 257.2863412719506, 214.19387020710587, 373.78206969387, 203.17232843188825, 202.26711496375572, 190.15185958176082, 183.34302984518493, 167.32107788807247, 155.06399100714492, 135.23900145637987, 121.34965761864014, 122.0948636133048, 114.95423117972966, 109.74891914089027, 115.4135705229113, 106.96676922359283, 114.1175104654903, 101.82993667898614, 106.67915549136181, 94.08043909810215, 120.70913684849558, 91.62709750193063, 92.02673368791561, 90.66813473682029, 95.6088978273245, 80.29667963621021, 80.0831987416192, 75.93297149879012, 74.72906945075118, 73.21476673872243, 72.47328084690291, 72.70282783654052, 105.9425795546793, 104.63537313404574, 101.02644258678723, 97.94420736637325, 94.82634616344959, 230.01502393235108, 162.4232790599849, 201.36391999167986, 366.79364308698973, 228.63167049874676, 385.3886258340949, 214.19387020710587], \"Category\": [\"Default\", \"Default\", \"Default\", \"Default\", \"Default\", \"Default\", \"Default\", \"Default\", \"Default\", \"Default\", \"Default\", \"Default\", \"Default\", \"Default\", \"Default\", \"Default\", \"Default\", \"Default\", \"Default\", \"Default\", \"Default\", \"Default\", \"Default\", \"Default\", \"Default\", \"Default\", \"Default\", \"Default\", \"Default\", \"Default\", \"Topic1\", \"Topic1\", \"Topic1\", \"Topic1\", \"Topic1\", \"Topic1\", \"Topic1\", \"Topic1\", \"Topic1\", \"Topic1\", \"Topic1\", \"Topic1\", \"Topic1\", \"Topic1\", \"Topic1\", \"Topic1\", \"Topic1\", \"Topic1\", \"Topic1\", \"Topic1\", \"Topic1\", \"Topic1\", \"Topic1\", \"Topic1\", \"Topic1\", \"Topic1\", \"Topic1\", \"Topic1\", \"Topic1\", \"Topic1\", \"Topic1\", \"Topic1\", \"Topic1\", \"Topic1\", \"Topic1\", \"Topic1\", \"Topic1\", \"Topic1\", \"Topic1\", \"Topic1\", \"Topic1\", \"Topic1\", \"Topic2\", \"Topic2\", \"Topic2\", \"Topic2\", \"Topic2\", \"Topic2\", \"Topic2\", \"Topic2\", \"Topic2\", \"Topic2\", \"Topic2\", \"Topic2\", \"Topic2\", \"Topic2\", \"Topic2\", \"Topic2\", \"Topic2\", \"Topic2\", \"Topic2\", \"Topic2\", \"Topic2\", \"Topic2\", \"Topic2\", \"Topic2\", \"Topic2\", \"Topic2\", \"Topic2\", \"Topic2\", \"Topic2\", \"Topic2\", \"Topic2\", \"Topic2\", \"Topic2\", \"Topic2\", \"Topic2\", \"Topic2\", \"Topic2\", \"Topic2\", \"Topic2\", \"Topic2\", \"Topic2\", \"Topic2\", \"Topic2\", \"Topic2\", \"Topic2\", \"Topic3\", \"Topic3\", \"Topic3\", \"Topic3\", \"Topic3\", \"Topic3\", \"Topic3\", \"Topic3\", \"Topic3\", \"Topic3\", \"Topic3\", \"Topic3\", \"Topic3\", \"Topic3\", \"Topic3\", \"Topic3\", \"Topic3\", \"Topic3\", \"Topic3\", \"Topic3\", \"Topic3\", \"Topic3\", \"Topic3\", \"Topic3\", \"Topic3\", \"Topic3\", \"Topic3\", \"Topic3\", \"Topic3\", \"Topic3\", \"Topic3\", \"Topic3\", \"Topic3\", \"Topic3\", \"Topic3\", \"Topic3\", \"Topic3\", \"Topic3\", \"Topic3\", \"Topic4\", \"Topic4\", \"Topic4\", \"Topic4\", \"Topic4\", \"Topic4\", \"Topic4\", \"Topic4\", \"Topic4\", \"Topic4\", \"Topic4\", \"Topic4\", \"Topic4\", \"Topic4\", \"Topic4\", \"Topic4\", \"Topic4\", \"Topic4\", \"Topic4\", \"Topic4\", \"Topic4\", \"Topic4\", \"Topic4\", \"Topic4\", \"Topic4\", \"Topic4\", \"Topic4\", \"Topic4\", \"Topic4\", \"Topic4\", \"Topic4\", \"Topic4\", \"Topic4\", \"Topic4\", \"Topic4\", \"Topic4\", \"Topic4\", \"Topic4\", \"Topic4\", \"Topic4\", \"Topic4\", \"Topic4\"], \"logprob\": [30.0, 29.0, 28.0, 27.0, 26.0, 25.0, 24.0, 23.0, 22.0, 21.0, 20.0, 19.0, 18.0, 17.0, 16.0, 15.0, 14.0, 13.0, 12.0, 11.0, 10.0, 9.0, 8.0, 7.0, 6.0, 5.0, 4.0, 3.0, 2.0, 1.0, -4.3569, -4.5768, -4.6486, -4.8971, -4.9321, -5.0174, -5.0332, -5.0759, -4.9891, -5.1061, -5.1341, -5.2315, -5.2634, -5.2657, -5.3133, -5.296, -5.3391, -5.376, -5.4364, -5.4422, -5.3983, -5.4766, -5.3969, -5.4134, -5.5014, -5.4377, -5.32, -5.4353, -5.5471, -5.5625, -5.5044, -5.5326, -5.5297, -5.1076, -4.7781, -4.8843, -4.8255, -5.1364, -5.2306, -5.3279, -5.0758, -5.3771, -4.4, -4.7577, -4.7856, -4.8888, -4.9473, -5.0285, -5.2251, -5.2041, -5.1705, -5.2739, -5.2924, -5.2332, -5.1882, -5.2366, -5.3653, -5.3758, -5.4277, -5.4549, -5.5018, -5.4534, -5.5251, -5.4694, -5.482, -5.59, -5.5906, -5.6052, -5.4619, -5.4996, -5.6608, -5.6558, -5.0988, -5.4672, -5.4988, -5.4862, -5.5676, -4.5424, -4.9961, -5.3538, -5.2923, -5.4041, -5.3826, -5.421, -5.4153, -5.439, -5.4413, -4.4102, -4.4601, -4.5518, -4.6738, -4.8376, -4.9426, -4.9391, -5.0091, -5.0824, -5.1197, -5.159, -5.1936, -5.2136, -5.2402, -5.3004, -5.3052, -5.3703, -5.405, -5.4036, -5.4555, -5.374, -5.4695, -5.4609, -5.4803, -5.5327, -5.4936, -5.5722, -5.5314, -5.5447, -5.5086, -5.4878, -5.5106, -5.5038, -5.5142, -4.6734, -5.2778, -4.7275, -5.1304, -5.3768, -4.1258, -4.7369, -4.7414, -4.8037, -4.8402, -4.9319, -5.0085, -5.1456, -5.2545, -5.2485, -5.3091, -5.3556, -5.3053, -5.3815, -5.3169, -5.431, -5.3845, -5.5107, -5.2615, -5.5374, -5.5331, -5.5481, -5.4954, -5.6704, -5.6733, -5.727, -5.743, -5.7637, -5.774, -5.7709, -5.395, -5.4074, -5.4436, -5.476, -5.5159, -4.8154, -5.1417, -4.9938, -4.8479, -5.0842, -5.3216, -5.4396], \"loglift\": [30.0, 29.0, 28.0, 27.0, 26.0, 25.0, 24.0, 23.0, 22.0, 21.0, 20.0, 19.0, 18.0, 17.0, 16.0, 15.0, 14.0, 13.0, 12.0, 11.0, 10.0, 9.0, 8.0, 7.0, 6.0, 5.0, 4.0, 3.0, 2.0, 1.0, 1.3111, 1.3108, 1.3105, 1.3098, 1.3097, 1.3095, 1.3093, 1.3092, 1.3091, 1.309, 1.3088, 1.3086, 1.3084, 1.3082, 1.3082, 1.3081, 1.308, 1.3078, 1.3074, 1.3074, 1.3073, 1.3073, 1.3073, 1.3071, 1.3071, 1.307, 1.307, 1.3069, 1.3068, 1.3066, 1.3064, 1.3061, 1.3052, 1.1068, 0.9216, 0.8775, 0.6213, 0.6045, 0.7683, 0.9927, -0.0861, 1.0303, 1.3193, 1.3184, 1.3184, 1.318, 1.3178, 1.3175, 1.3167, 1.3166, 1.3165, 1.3165, 1.3163, 1.3162, 1.3162, 1.3162, 1.3159, 1.3158, 1.3156, 1.3155, 1.3152, 1.3152, 1.315, 1.3149, 1.3148, 1.3146, 1.3146, 1.3145, 1.3143, 1.3142, 1.3142, 1.3141, 1.3131, 1.3136, 1.3134, 1.3127, 1.3116, 0.4473, 0.6377, 0.9889, 0.833, 1.0321, 0.8826, 1.0331, 0.95, 0.9863, 0.8927, 1.4281, 1.428, 1.4275, 1.4274, 1.4267, 1.4263, 1.4263, 1.4261, 1.4257, 1.4255, 1.4253, 1.4252, 1.4251, 1.425, 1.4246, 1.4245, 1.4241, 1.4239, 1.4237, 1.4235, 1.4233, 1.4232, 1.4232, 1.4231, 1.4231, 1.423, 1.4229, 1.4229, 1.4229, 1.4228, 1.4226, 1.4227, 1.4222, 1.4207, 0.9109, 1.2444, 0.2622, 0.8579, 0.7948, 1.4891, 1.4875, 1.4875, 1.487, 1.487, 1.4867, 1.4862, 1.4859, 1.4853, 1.4853, 1.4849, 1.4847, 1.4847, 1.4845, 1.4844, 1.4843, 1.4842, 1.4836, 1.4836, 1.4834, 1.4833, 1.4832, 1.4828, 1.4824, 1.4821, 1.4817, 1.4816, 1.4814, 1.4813, 1.4812, 1.4807, 1.4807, 1.4796, 1.4782, 1.4706, 1.285, 1.3066, 1.2397, 0.7859, 1.0223, 0.2627, 0.7321]}, \"token.table\": {\"Topic\": [4, 3, 3, 1, 3, 3, 4, 1, 3, 4, 1, 4, 4, 4, 4, 3, 3, 3, 2, 4, 4, 1, 2, 3, 1, 1, 2, 1, 4, 2, 1, 1, 2, 1, 3, 2, 4, 1, 3, 4, 2, 2, 4, 4, 1, 1, 1, 2, 1, 2, 4, 2, 2, 2, 4, 2, 1, 1, 4, 1, 2, 1, 4, 2, 3, 2, 3, 1, 1, 2, 4, 1, 1, 2, 4, 1, 2, 3, 2, 1, 2, 3, 2, 4, 3, 1, 2, 3, 4, 4, 1, 4, 3, 4, 4, 3, 3, 3, 3, 4, 2, 3, 4, 3, 4, 2, 3, 1, 2, 2, 2, 3, 1, 3, 1, 2, 3, 4, 4, 1, 3, 3, 1, 2, 3, 4, 4, 2, 4, 2, 1, 2, 3, 4, 1, 2, 3, 4, 3, 2, 4, 1, 2, 2, 1, 4, 4, 2, 2, 3, 2, 2, 4, 1, 2, 3, 4, 1, 2, 3, 1, 1, 3, 3, 3, 4, 3, 2, 4, 2, 3, 2, 3, 2, 4, 1, 3, 2, 3, 1, 2, 3, 1, 1, 2, 4, 3, 2, 3, 4, 1, 3, 4, 1, 2, 1, 2, 1, 2, 2, 2, 4, 2], \"Freq\": [0.9918497771278943, 0.9929452601009275, 0.9905350121926454, 0.9982366735070508, 0.9899611936436848, 0.18259676816742404, 0.8129903725549593, 0.9945379361993896, 0.9976067942803241, 0.9942298813970561, 0.9973484325533848, 0.9980810672981246, 0.9903328679577539, 0.9877132228546464, 0.9931383746785165, 0.9900197001874212, 0.9944651205842738, 0.9920758349305281, 0.5043707912792941, 0.4934654768732553, 0.9982327475520665, 0.7506140084105543, 0.24232420743962774, 0.9984780637975719, 0.9954165185704505, 0.9914436592270275, 0.9928217907238841, 0.9903243697452907, 0.994125242984832, 0.9937429467937834, 0.9919725334351127, 0.9980707173570771, 0.9903424495976365, 0.43531265377829154, 0.5635744178379667, 0.21850985023443142, 0.7796828747001303, 0.9963091985052278, 0.9941849756221706, 0.9909619666873177, 0.9970185692132746, 0.9946058821511498, 0.9970666199144107, 0.9971185941064705, 0.9908325864047058, 0.9929013809687643, 0.9915144151222872, 0.996386549464562, 0.8136712467691495, 0.18514675076184242, 0.9910326808114351, 0.9959072490781867, 0.9972271892354801, 0.9879067688882119, 0.9902438307326754, 0.9929986407500813, 0.9961301744377984, 0.7260777769347596, 0.270924543632373, 0.9942258594907233, 0.9944166416013436, 0.9969035267188651, 0.9934695815979037, 0.9922416439916236, 0.9880840610089761, 0.9921782895309326, 0.993148166341476, 0.9965812475441205, 0.3059763044117983, 0.6912797988562851, 0.9936313686156679, 0.9965879798822178, 0.675676918738906, 0.3232764568104249, 0.993633662656649, 0.995585574247478, 0.7481254319992372, 0.24937514399974572, 0.9944644598022719, 0.3744054868762578, 0.6150947284395664, 0.008914416354196614, 0.6535106425560447, 0.34597622252967075, 0.9934184015797314, 0.9972909862892629, 0.9913387122796276, 0.9964319082758891, 0.996305206671629, 0.9911029204816293, 0.997506298214897, 0.9902073707975935, 0.371777015032858, 0.6254601547023375, 0.9939424227336281, 0.9968100131965135, 0.9973512609907669, 0.9979560386682172, 0.9927104508686857, 0.9898398621142632, 0.11157568521109125, 0.5942053933334859, 0.2932105216012398, 0.9935272100239216, 0.9986793949980274, 0.1657229395827915, 0.8286146979139576, 0.9911776947289769, 0.9978647990593632, 0.9917033849044508, 0.7159713990170309, 0.2827786197798357, 0.990230499346538, 0.9965891472549943, 0.49980454792571183, 0.17187848706947556, 0.12212418818094316, 0.2058018726752931, 0.9931760681858849, 0.9878051174356467, 0.9893845270929372, 0.9971182094675565, 0.010545592448287813, 0.010545592448287813, 0.010545592448287813, 0.9807400976907666, 0.9864740824712305, 0.16623232923421383, 0.8311616461710691, 0.997889134947517, 0.6476512162253356, 0.3532642997592739, 0.9889297842244072, 0.9964166213640432, 0.24626841557367285, 0.41665179611592323, 0.3106991056946919, 0.025772276048407622, 0.9920493871891355, 0.9913817255728413, 0.0059364175184002475, 0.9987502770068832, 0.9972155135114712, 0.9911067213439092, 0.9937587925064618, 0.9979076853672768, 0.9931559820290343, 0.995671238971189, 0.9935889294949789, 0.9949636449840518, 0.9961753556346155, 0.9919362039484925, 0.9885157944790678, 0.4916050271077848, 0.264010107150477, 0.11834935837780004, 0.12745315517609235, 0.9928202204337101, 0.994040864202047, 0.9892370394566423, 0.994049476115646, 0.9940280214534124, 0.9946259759540339, 0.9899893598407966, 0.00955699750522154, 0.9939277405430401, 0.9915356228842882, 0.9922647081365314, 0.9888430932320438, 0.9973720712725503, 0.995208162455751, 0.9945856638404338, 0.9908589497323205, 0.010209894253974285, 0.9903597426355055, 0.9981475422165731, 0.996853582155134, 0.645959373411647, 0.35373965686828285, 0.9940183318362493, 0.9937934908238225, 0.990597610172615, 0.993720891663021, 0.24769326523817617, 0.7492721273454829, 0.9926309861920104, 0.9936872436237901, 0.9907960047890118, 0.9952559603436643, 0.9981290270730522, 0.9978755201380209, 0.5275594483200632, 0.4668667684248347, 0.5813333006379638, 0.4163603369434065, 0.9961361172431038, 0.9948370224180524, 0.2825245259088079, 0.7146208596516905, 0.9948239197658952, 0.9947435964791476, 0.9916990338682034, 0.9963364769915518], \"Term\": [\"abc\", \"accus\", \"appoint\", \"approv\", \"arm\", \"attack\", \"attack\", \"aussi\", \"australian\", \"back\", \"ban\", \"begin\", \"bid\", \"big\", \"blaze\", \"board\", \"bu\", \"busi\", \"call\", \"call\", \"car\", \"chang\", \"chang\", \"charg\", \"citi\", \"claim\", \"club\", \"coast\", \"collaps\", \"commun\", \"concern\", \"council\", \"countri\", \"court\", \"court\", \"crash\", \"crash\", \"cut\", \"day\", \"dead\", \"debat\", \"debt\", \"deni\", \"die\", \"disput\", \"doctor\", \"draw\", \"drought\", \"drug\", \"drug\", \"drum\", \"econom\", \"elect\", \"eye\", \"fail\", \"fall\", \"farmer\", \"fear\", \"fear\", \"figur\", \"final\", \"forc\", \"former\", \"found\", \"fourth\", \"friday\", \"full\", \"fund\", \"futur\", \"futur\", \"garrett\", \"govern\", \"govt\", \"govt\", \"great\", \"group\", \"health\", \"health\", \"held\", \"help\", \"help\", \"help\", \"hit\", \"hit\", \"hope\", \"hospit\", \"injuri\", \"interview\", \"iraq\", \"italian\", \"job\", \"judg\", \"kill\", \"kill\", \"labor\", \"latest\", \"lead\", \"leav\", \"line\", \"lock\", \"man\", \"man\", \"man\", \"market\", \"may\", \"melbourn\", \"melbourn\", \"men\", \"mine\", \"minist\", \"miss\", \"miss\", \"mp\", \"murder\", \"new\", \"new\", \"new\", \"new\", \"news\", \"next\", \"olymp\", \"open\", \"paint\", \"paint\", \"paint\", \"paint\", \"pakistan\", \"pay\", \"pay\", \"perth\", \"plan\", \"plan\", \"point\", \"pole\", \"polic\", \"polic\", \"polic\", \"polic\", \"pull\", \"qld\", \"qld\", \"question\", \"rate\", \"record\", \"reduc\", \"report\", \"resid\", \"review\", \"rise\", \"risk\", \"road\", \"run\", \"rural\", \"say\", \"say\", \"say\", \"say\", \"school\", \"search\", \"second\", \"seek\", \"set\", \"shoot\", \"sieg\", \"singapor\", \"singapor\", \"sold\", \"stage\", \"state\", \"station\", \"stori\", \"student\", \"success\", \"sunday\", \"sunday\", \"support\", \"sydney\", \"take\", \"take\", \"team\", \"telstra\", \"test\", \"titl\", \"trade\", \"trade\", \"train\", \"trial\", \"turnbul\", \"two\", \"union\", \"urg\", \"us\", \"us\", \"wa\", \"wa\", \"want\", \"warn\", \"water\", \"water\", \"win\", \"woman\", \"work\", \"world\"]}, \"R\": 30, \"lambda.step\": 0.01, \"plot.opts\": {\"xlab\": \"PC1\", \"ylab\": \"PC2\"}, \"topic.order\": [3, 2, 4, 1]};\n",
       "\n",
       "function LDAvis_load_lib(url, callback){\n",
       "  var s = document.createElement('script');\n",
       "  s.src = url;\n",
       "  s.async = true;\n",
       "  s.onreadystatechange = s.onload = callback;\n",
       "  s.onerror = function(){console.warn(\"failed to load library \" + url);};\n",
       "  document.getElementsByTagName(\"head\")[0].appendChild(s);\n",
       "}\n",
       "\n",
       "if(typeof(LDAvis) !== \"undefined\"){\n",
       "   // already loaded: just create the visualization\n",
       "   !function(LDAvis){\n",
       "       new LDAvis(\"#\" + \"ldavis_el370828743285150721931519520\", ldavis_el370828743285150721931519520_data);\n",
       "   }(LDAvis);\n",
       "}else if(typeof define === \"function\" && define.amd){\n",
       "   // require.js is available: use it to load d3/LDAvis\n",
       "   require.config({paths: {d3: \"https://d3js.org/d3.v5\"}});\n",
       "   require([\"d3\"], function(d3){\n",
       "      window.d3 = d3;\n",
       "      LDAvis_load_lib(\"https://cdn.jsdelivr.net/gh/bmabey/pyLDAvis@3.3.1/pyLDAvis/js/ldavis.v3.0.0.js\", function(){\n",
       "        new LDAvis(\"#\" + \"ldavis_el370828743285150721931519520\", ldavis_el370828743285150721931519520_data);\n",
       "      });\n",
       "    });\n",
       "}else{\n",
       "    // require.js not available: dynamically load d3 & LDAvis\n",
       "    LDAvis_load_lib(\"https://d3js.org/d3.v5.js\", function(){\n",
       "         LDAvis_load_lib(\"https://cdn.jsdelivr.net/gh/bmabey/pyLDAvis@3.3.1/pyLDAvis/js/ldavis.v3.0.0.js\", function(){\n",
       "                 new LDAvis(\"#\" + \"ldavis_el370828743285150721931519520\", ldavis_el370828743285150721931519520_data);\n",
       "            })\n",
       "         });\n",
       "}\n",
       "</script>"
      ],
      "text/plain": [
       "PreparedData(topic_coordinates=              x         y  topics  cluster       Freq\n",
       "topic                                                \n",
       "2     -0.228494 -0.028623       1        1  26.892768\n",
       "1     -0.149627 -0.010719       2        1  26.673314\n",
       "3      0.219569 -0.235701       3        1  23.919312\n",
       "0      0.158552  0.275042       4        1  22.514605, topic_info=          Term        Freq       Total Category  logprob  loglift\n",
       "1133    report  373.000000  373.000000  Default  30.0000  30.0000\n",
       "647   question  354.000000  354.000000  Default  29.0000  29.0000\n",
       "1043      mine  336.000000  336.000000  Default  28.0000  28.0000\n",
       "886     sydney  298.000000  298.000000  Default  27.0000  27.0000\n",
       "86       charg  284.000000  284.000000  Default  26.0000  26.0000\n",
       "...        ...         ...         ...      ...      ...      ...\n",
       "0        crash  156.610741  201.363920   Topic4  -4.9938   1.2397\n",
       "177       call  181.208642  366.793643   Topic4  -4.8479   0.7859\n",
       "688       kill  143.073507  228.631670   Topic4  -5.0842   1.0223\n",
       "139        man  112.838368  385.388626   Topic4  -5.3216   0.2627\n",
       "124         us  100.276481  214.193870   Topic4  -5.4396   0.7321\n",
       "\n",
       "[198 rows x 6 columns], token_table=      Topic      Freq     Term\n",
       "term                          \n",
       "496       4  0.991850      abc\n",
       "101       3  0.992945    accus\n",
       "833       3  0.990535  appoint\n",
       "68        1  0.998237   approv\n",
       "1411      3  0.989961      arm\n",
       "...     ...       ...      ...\n",
       "600       2  0.714621    water\n",
       "500       2  0.994824      win\n",
       "241       2  0.994744    woman\n",
       "279       4  0.991699     work\n",
       "151       2  0.996336    world\n",
       "\n",
       "[203 rows x 3 columns], R=30, lambda_step=0.01, plot_opts={'xlab': 'PC1', 'ylab': 'PC2'}, topic_order=[3, 2, 4, 1])"
      ]
     },
     "execution_count": 34,
     "metadata": {},
     "output_type": "execute_result"
    }
   ],
   "source": [
    "# TODO: show visualization results of the LDA\n",
    "import pyLDAvis\n",
    "import pyLDAvis.gensim_models as gensimvis\n",
    "pyLDAvis.enable_notebook()\n",
    "vis = gensimvis.prepare(lda, corpus, dictionary)\n",
    "vis"
   ]
  },
  {
   "cell_type": "markdown",
   "metadata": {},
   "source": [
    "Depending on your results, you can try to fine tune the algorithm: number of topics, hyperparameters...\n",
    "And check with others their results."
   ]
  }
 ],
 "metadata": {
  "kernelspec": {
   "display_name": "Python 3 (ipykernel)",
   "language": "python",
   "name": "python3"
  },
  "language_info": {
   "codemirror_mode": {
    "name": "ipython",
    "version": 3
   },
   "file_extension": ".py",
   "mimetype": "text/x-python",
   "name": "python",
   "nbconvert_exporter": "python",
   "pygments_lexer": "ipython3",
   "version": "3.9.7"
  },
  "toc": {
   "base_numbering": 1,
   "nav_menu": {},
   "number_sections": true,
   "sideBar": true,
   "skip_h1_title": false,
   "title_cell": "Table of Contents",
   "title_sidebar": "Contents",
   "toc_cell": false,
   "toc_position": {},
   "toc_section_display": true,
   "toc_window_display": false
  }
 },
 "nbformat": 4,
 "nbformat_minor": 2
}
